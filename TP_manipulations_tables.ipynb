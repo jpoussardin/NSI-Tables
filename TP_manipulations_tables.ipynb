{
 "cells": [
  {
   "cell_type": "markdown",
   "metadata": {},
   "source": [
    "---\n",
    "# TP : TRAITEMENT DE DONNEES EN TABLES\n",
    "---\n",
    "\n",
    "Dans ce TP nous allons utiliser des données importées depuis un fichier CSV contenant des relevés MétéoFrance du mois de septembre 2019.([Télécharger](synop.201909.csv))."
   ]
  },
  {
   "cell_type": "markdown",
   "metadata": {},
   "source": [
    "## Import du fichier CSV\n",
    "\n",
    "1) Charger la base de donnée sous la forme de deux tableaux dans les variables `descripteurs_complets ` et  `table_complete ` "
   ]
  },
  {
   "cell_type": "code",
   "execution_count": null,
   "metadata": {},
   "outputs": [],
   "source": []
  },
  {
   "cell_type": "markdown",
   "metadata": {},
   "source": [
    "Pour ce TP, nous n’avons pas besoin de conserver l’ensemble des champs de chaque enregistrement. Seuls les champs suivants nous intéressent :\n",
    "- ` numer_sta ` : l'identifiant de la station météo\n",
    "- ` ff ` : la vitesse du vent moyen les dix dernières minutes, en m/s\n",
    "- ` t ` : la température en Kelvin\n",
    "- ` u ` : l'humidité en pourcentage\n",
    "- ` rr1 ` : les précipitations dans la dernière heure, en mm"
   ]
  },
  {
   "cell_type": "markdown",
   "metadata": {},
   "source": [
    "2) Récupérer uniquement ces variables `descripteurs` et `table` en parcourant les variables `descripteurs` et `table_complete ` chargée précédemment:"
   ]
  },
  {
   "cell_type": "code",
   "execution_count": null,
   "metadata": {},
   "outputs": [],
   "source": []
  },
  {
   "cell_type": "markdown",
   "metadata": {
    "ExecuteTime": {
     "end_time": "2021-03-10T16:56:09.355823Z",
     "start_time": "2021-03-10T16:56:09.348842Z"
    }
   },
   "source": [
    "3) Modifier les variables `descripteurs` et `table` en `descripteurs_modifies` et `table_modifiee` de sorte que :\n",
    " - la vitesse du vent soit en km/h (on appellera ` vitesse_vent ` le nouveau champ)\n",
    " - la température en degrés Celsius (on appellera ` temperature ` le nouveau champ)\n",
    " - les champ ` numer_sta `, ` u ` et ` rr1 ` soient renommés ` id ` , ` humidite ` et ` precipitations `.\n",
    "\n",
    "Les valeurs des tables seront des nombres décimaux ou des chaines de caractères \"mq\" si la valeur est manquante.\n",
    " "
   ]
  },
  {
   "cell_type": "code",
   "execution_count": null,
   "metadata": {},
   "outputs": [],
   "source": []
  },
  {
   "cell_type": "markdown",
   "metadata": {},
   "source": [
    "## Statistiques"
   ]
  },
  {
   "cell_type": "markdown",
   "metadata": {},
   "source": [
    "4) Écrire une fonction renvoyant la température minimale relevée."
   ]
  },
  {
   "cell_type": "code",
   "execution_count": null,
   "metadata": {},
   "outputs": [],
   "source": []
  },
  {
   "cell_type": "markdown",
   "metadata": {},
   "source": [
    "5) Écrire une fonction renvoyant l’identifiant de la station météo ayant relevé la vitesse maximale de vent."
   ]
  },
  {
   "cell_type": "code",
   "execution_count": null,
   "metadata": {},
   "outputs": [],
   "source": []
  },
  {
   "cell_type": "markdown",
   "metadata": {},
   "source": [
    "6) Écrire une fonction renvoyant le taux d’humidité moyen sur l’ensemble des relevés."
   ]
  },
  {
   "cell_type": "code",
   "execution_count": null,
   "metadata": {},
   "outputs": [],
   "source": []
  },
  {
   "cell_type": "markdown",
   "metadata": {},
   "source": [
    "7) Écrire une fonction renvoyant le niveau de précipitation moyen relevés par les stations ayant un identifiant compris entre 60000 et 69999?"
   ]
  },
  {
   "cell_type": "code",
   "execution_count": null,
   "metadata": {},
   "outputs": [],
   "source": []
  },
  {
   "cell_type": "markdown",
   "metadata": {},
   "source": [
    "## Tris"
   ]
  },
  {
   "cell_type": "markdown",
   "metadata": {},
   "source": [
    "8) Utiliser les fonctions de tri de la librairie standard de Python afin de trier la liste des enregistrements par identifiants croissants."
   ]
  },
  {
   "cell_type": "code",
   "execution_count": null,
   "metadata": {},
   "outputs": [],
   "source": []
  },
  {
   "cell_type": "markdown",
   "metadata": {},
   "source": [
    "## Fusion"
   ]
  },
  {
   "cell_type": "markdown",
   "metadata": {},
   "source": [
    "Comparons les relevés de septembre 2019 avec ceux de septembre 2009. Un fichier similaire pour février 2009 est disponible ([Télécharger](synop.200909.csv)).\n",
    "\n",
    "Plus précisément, on cherche à comparer les relevés de température des stations en activité lors de ces deux mois\n",
    "(les identifiants des stations météo n’ont pas changé depuis, mais certains stations ont disparu et d’autres sont apparues), \n",
    "pour chaque relevé. On va donc se servir également d’un champ supplémentaire des fichiers :\n",
    "\n",
    "- ` date ` : la date du relevé sous le format ` AAAAMMJJhhmmss `"
   ]
  },
  {
   "cell_type": "markdown",
   "metadata": {},
   "source": [
    "9) Écrire une fonction permettant de fusionner les deux tables extraites des fichiers de 2009 et de 2019, pour conserver dans chaque enregistrement l’identifiant de la station, la date du relevé de laquelle on supprime l’année, et deux champs ` t2009 ` et ` t2019 ` donnant le relevé de température (différent de ` mq `) en février 2009 et février 2019, respectivement."
   ]
  },
  {
   "cell_type": "code",
   "execution_count": null,
   "metadata": {
    "collapsed": true
   },
   "outputs": [],
   "source": []
  },
  {
   "cell_type": "markdown",
   "metadata": {},
   "source": [
    "10) Utiliser la table fusionnée pour en déduire lequel des deux mois a été le plus chaud."
   ]
  },
  {
   "cell_type": "code",
   "execution_count": null,
   "metadata": {
    "collapsed": true
   },
   "outputs": [],
   "source": []
  }
 ],
 "metadata": {
  "kernelspec": {
   "display_name": "Python 3",
   "language": "python",
   "name": "python3"
  },
  "language_info": {
   "codemirror_mode": {
    "name": "ipython",
    "version": 3
   },
   "file_extension": ".py",
   "mimetype": "text/x-python",
   "name": "python",
   "nbconvert_exporter": "python",
   "pygments_lexer": "ipython3",
   "version": "3.7.6"
  }
 },
 "nbformat": 4,
 "nbformat_minor": 2
}
